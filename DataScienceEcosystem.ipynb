{
 "cells": [
  {
   "cell_type": "markdown",
   "id": "ef79fbcc-42d3-4b10-a74f-e37f0d545503",
   "metadata": {},
   "source": [
    "# Data Science Tools and Ecosystem"
   ]
  },
  {
   "cell_type": "markdown",
   "id": "5b67e245-a29a-454e-a364-67b46f810500",
   "metadata": {},
   "source": [
    "In this notebook, Data Science Tools and Ecosystem are summarized"
   ]
  },
  {
   "cell_type": "markdown",
   "id": "545cf07d-7d74-4d97-b8a3-8822bfd1e4d0",
   "metadata": {},
   "source": [
    "## Objectives:\n",
    "- List popular languages for Data Science\n",
    "- List commonly used libraries used by Data Scientists\n",
    "- Perform simple arithmetic expressions in Python"
   ]
  },
  {
   "cell_type": "markdown",
   "id": "65d1e931-09d2-4211-8981-fceb0986eb30",
   "metadata": {},
   "source": [
    "Some of the popular languages that Data Scientists use are:\n",
    "1. Pyhon\n",
    "2. R\n",
    "3. C++"
   ]
  },
  {
   "cell_type": "markdown",
   "id": "c4b110e4-9f2d-4278-b33c-3e7bd30bfc7b",
   "metadata": {},
   "source": [
    "Some of the commonly used libraries used by Data Scientists include:\n",
    "1. NumPy\n",
    "2. Pandas\n",
    "3. Seaborn\n",
    "4. Matplotlib"
   ]
  },
  {
   "cell_type": "markdown",
   "id": "39828464-319f-40c1-a828-5212d5047949",
   "metadata": {},
   "source": [
    "| Data science tools |\n",
    "---------------------\n",
    "| Jupiet lab |\n",
    "| Rstudio |\n",
    "| Google colab |\n"
   ]
  },
  {
   "cell_type": "markdown",
   "id": "4fd6ca8b-0462-4f24-9976-3d4da0d27b5d",
   "metadata": {},
   "source": [
    "### Below are a few examples of evaluating arithmetic expressions in Python\n",
    "\n",
    "\n"
   ]
  },
  {
   "cell_type": "code",
   "execution_count": 14,
   "id": "9d64b1e8-9f5c-4985-a944-271d1bf5b63b",
   "metadata": {},
   "outputs": [
    {
     "data": {
      "text/plain": [
       "17"
      ]
     },
     "execution_count": 14,
     "metadata": {},
     "output_type": "execute_result"
    }
   ],
   "source": [
    "# This a simple arithmetic expression to mutiply then add integers.\n",
    "\n",
    "(3*4)+5"
   ]
  },
  {
   "cell_type": "code",
   "execution_count": 28,
   "id": "108e986f-6d6a-4abb-845e-026f7da54f66",
   "metadata": {},
   "outputs": [
    {
     "data": {
      "text/plain": [
       "3.3333333333333335"
      ]
     },
     "execution_count": 28,
     "metadata": {},
     "output_type": "execute_result"
    }
   ],
   "source": [
    "# This will convert 200 minutes to hours by diving by 60\n",
    "b = 200\n",
    "a = b / 60\n",
    "a"
   ]
  },
  {
   "cell_type": "markdown",
   "id": "332c9025-025b-414f-b372-9a7ae9fd61d9",
   "metadata": {},
   "source": [
    "## Author\n",
    "Ifeanyi Enekwa"
   ]
  },
  {
   "cell_type": "code",
   "execution_count": null,
   "id": "a3f1a78d-db5c-45f7-9493-b0421aa97d0a",
   "metadata": {},
   "outputs": [],
   "source": []
  }
 ],
 "metadata": {
  "kernelspec": {
   "display_name": "Python 3 (ipykernel)",
   "language": "python",
   "name": "python3"
  },
  "language_info": {
   "codemirror_mode": {
    "name": "ipython",
    "version": 3
   },
   "file_extension": ".py",
   "mimetype": "text/x-python",
   "name": "python",
   "nbconvert_exporter": "python",
   "pygments_lexer": "ipython3",
   "version": "3.12.4"
  }
 },
 "nbformat": 4,
 "nbformat_minor": 5
}
